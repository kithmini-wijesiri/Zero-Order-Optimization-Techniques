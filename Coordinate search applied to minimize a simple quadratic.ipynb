{
  "nbformat": 4,
  "nbformat_minor": 0,
  "metadata": {
    "colab": {
      "provenance": []
    },
    "kernelspec": {
      "name": "python3",
      "display_name": "Python 3"
    },
    "language_info": {
      "name": "python"
    }
  },
  "cells": [
    {
      "cell_type": "markdown",
      "source": [
        "**Coordinate search applied to minimize a simple quadratic**\n",
        "\n",
        "Compare the results from random search algorithm and cooridnate search algorithm on the following simple quadratic  𝑔(𝑤1,𝑤2)=𝑤21+𝑤22+2. "
      ],
      "metadata": {
        "id": "0pRpkfXLDAes"
      }
    },
    {
      "cell_type": "code",
      "source": [
        "import numpy as np\n",
        "np.random.seed(0)"
      ],
      "metadata": {
        "id": "kT4Mv9XJDgX6"
      },
      "execution_count": 4,
      "outputs": []
    },
    {
      "cell_type": "code",
      "source": [
        "# random search function\n",
        "def random_search(g,alpha_choice,max_its,w,num_samples):\n",
        "    # run random search\n",
        "    weight_history = []         # container for weight history\n",
        "    cost_history = []           # container for corresponding cost function history\n",
        "    alpha = 0\n",
        "    for k in range(1,max_its+1):        \n",
        "        # check if diminishing steplength rule used\n",
        "        if alpha_choice == 'diminishing':\n",
        "            alpha = 1/float(k)\n",
        "        else:\n",
        "            alpha = alpha_choice\n",
        "            \n",
        "        # record weights and cost evaluation\n",
        "        weight_history.append(w)\n",
        "        cost_history.append(g(w))\n",
        "        \n",
        "        # construct set of random unit directions\n",
        "        directions = np.random.randn(num_samples,np.size(w))\n",
        "        norms = np.sqrt(np.sum(directions*directions,axis = 1))[:,np.newaxis]\n",
        "        directions = directions/norms   \n",
        "        \n",
        "        ### pick best descent direction\n",
        "        # compute all new candidate points\n",
        "        w_candidates = w + alpha*directions\n",
        "        \n",
        "        # evaluate all candidates\n",
        "        evals = np.array([g(w_val) for w_val in w_candidates])\n",
        "\n",
        "        # if we find a real descent direction take the step in its direction\n",
        "        ind = np.argmin(evals)\n",
        "        if g(w_candidates[ind]) < g(w):\n",
        "            # pluck out best descent direction\n",
        "            d = directions[ind,:]\n",
        "        \n",
        "            # take step\n",
        "            w = w + alpha*d\n",
        "        \n",
        "    # record weights and cost evaluation\n",
        "    weight_history.append(w)\n",
        "    cost_history.append(g(w))\n",
        "    return weight_history,cost_history"
      ],
      "metadata": {
        "id": "11RltQPwD-_p"
      },
      "execution_count": 5,
      "outputs": []
    },
    {
      "cell_type": "code",
      "source": [
        "# zero order coordinate search\n",
        "def coordinate_search(g,alpha_choice,max_its,w):\n",
        "    # construct set of all coordinate directions\n",
        "    directions_plus = np.eye(np.size(w),np.size(w))\n",
        "    directions_minus = - np.eye(np.size(w),np.size(w))\n",
        "    directions = np.concatenate((directions_plus,directions_minus),axis=0)\n",
        "        \n",
        "    # run coordinate search\n",
        "    weight_history = []         # container for weight history\n",
        "    cost_history = []           # container for corresponding cost function history\n",
        "    alpha = 0\n",
        "    for k in range(1,max_its+1):        \n",
        "        # check if diminishing steplength rule used\n",
        "        if alpha_choice == 'diminishing':\n",
        "            alpha = 1/float(k)\n",
        "        else:\n",
        "            alpha = alpha_choice\n",
        "            \n",
        "        # record weights and cost evaluation\n",
        "        weight_history.append(w)\n",
        "        cost_history.append(g(w))\n",
        "        \n",
        "        ### pick best descent direction\n",
        "        # compute all new candidate points\n",
        "        w_candidates = w + alpha*directions\n",
        "        \n",
        "        # evaluate all candidates\n",
        "        evals = np.array([g(w_val) for w_val in w_candidates])\n",
        "\n",
        "        # if we find a real descent direction take the step in its direction\n",
        "        ind = np.argmin(evals)\n",
        "        if g(w_candidates[ind]) < g(w):\n",
        "            # pluck out best descent direction\n",
        "            d = directions[ind,:]\n",
        "        \n",
        "            # take step\n",
        "            w = w + alpha*d\n",
        "        \n",
        "    # record weights and cost evaluation\n",
        "    weight_history.append(w)\n",
        "    cost_history.append(g(w))\n",
        "    return weight_history,cost_history"
      ],
      "metadata": {
        "id": "WExhig9cDGYu"
      },
      "execution_count": 6,
      "outputs": []
    },
    {
      "cell_type": "markdown",
      "source": [
        "For both algorithms, we use  𝑤0=[34]𝑇,𝛼=1,𝑃=10000  and  𝐾=10 ."
      ],
      "metadata": {
        "id": "2JR0WkyyDbkl"
      }
    },
    {
      "cell_type": "code",
      "source": [
        "np.random.seed(0)\n",
        "# define function\n",
        "g = lambda w: np.dot(w.T,w) + 2\n",
        "\n",
        "# run random search algorithm \n",
        "alpha_choice = 1; w = np.array([3,4]); num_samples = 10000; max_its = 10;\n",
        "weight_history_1,cost_history_1 = random_search(g,alpha_choice,max_its,w,num_samples)\n",
        "\n",
        "# run coordinate search algorithm \n",
        "alpha_choice = 1; w = np.array([3,4]); max_its = 10;\n",
        "weight_history_2,cost_history_2 = coordinate_search(g,alpha_choice,max_its,w)"
      ],
      "metadata": {
        "id": "OF8O991fDJiP"
      },
      "execution_count": 7,
      "outputs": []
    },
    {
      "cell_type": "code",
      "source": [
        "%matplotlib inline\n",
        "import matplotlib.pyplot as plt\n",
        "\n",
        "plt.plot(cost_history_1);\n",
        "plt.plot(cost_history_2);\n",
        "plt.xlabel(\"step\");\n",
        "plt.ylabel(\"cost\");\n",
        "plt.legend([\"random search\", \"coordinate search\"]);"
      ],
      "metadata": {
        "colab": {
          "base_uri": "https://localhost:8080/",
          "height": 449
        },
        "id": "rweYTwcxDd80",
        "outputId": "4a6fc4e1-6442-45fa-938d-99693471a339"
      },
      "execution_count": 8,
      "outputs": [
        {
          "output_type": "display_data",
          "data": {
            "text/plain": [
              "<Figure size 640x480 with 1 Axes>"
            ],
            "image/png": "[encoded data removed]"
          },
          "metadata": {}
        }
      ]
    }
  ]
}