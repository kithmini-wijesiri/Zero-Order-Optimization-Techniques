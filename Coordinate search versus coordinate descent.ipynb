{
  "nbformat": 4,
  "nbformat_minor": 0,
  "metadata": {
    "colab": {
      "provenance": []
    },
    "kernelspec": {
      "name": "python3",
      "display_name": "Python 3"
    },
    "language_info": {
      "name": "python"
    }
  },
  "cells": [
    {
      "cell_type": "markdown",
      "source": [
        "**Coordinate search versus coordinate descent**\n",
        "\n",
        "Apply the coordinate search and coordinate descent algorithm on function  𝑔(𝑤1,𝑤2)=0.26(𝑤21+𝑤22)−0.48𝑤1𝑤2 . Use diminishing steplength for both algorithms. And use  𝑤0=[34]𝑇 , and  𝐾=40  steps."
      ],
      "metadata": {
        "id": "Eo-NReR6EUJR"
      }
    },
    {
      "cell_type": "code",
      "source": [
        "import numpy as np\n",
        "np.random.seed(0)"
      ],
      "metadata": {
        "id": "NJSfaM7ZEaXC"
      },
      "execution_count": 12,
      "outputs": []
    },
    {
      "cell_type": "code",
      "source": [
        "# zero order coordinate search\n",
        "def coordinate_search(g,alpha_choice,max_its,w):\n",
        "    # construct set of all coordinate directions\n",
        "    directions_plus = np.eye(np.size(w),np.size(w))\n",
        "    directions_minus = - np.eye(np.size(w),np.size(w))\n",
        "    directions = np.concatenate((directions_plus,directions_minus),axis=0)\n",
        "        \n",
        "    # run coordinate search\n",
        "    weight_history = []         # container for weight history\n",
        "    cost_history = []           # container for corresponding cost function history\n",
        "    alpha = 0\n",
        "    for k in range(1,max_its+1):        \n",
        "        # check if diminishing steplength rule used\n",
        "        if alpha_choice == 'diminishing':\n",
        "            alpha = 1/float(k)\n",
        "        else:\n",
        "            alpha = alpha_choice\n",
        "            \n",
        "        # record weights and cost evaluation\n",
        "        weight_history.append(w)\n",
        "        cost_history.append(g(w))\n",
        "        \n",
        "        ### pick best descent direction\n",
        "        # compute all new candidate points\n",
        "        w_candidates = w + alpha*directions\n",
        "        \n",
        "        # evaluate all candidates\n",
        "        evals = np.array([g(w_val) for w_val in w_candidates])\n",
        "\n",
        "        # if we find a real descent direction take the step in its direction\n",
        "        ind = np.argmin(evals)\n",
        "        if g(w_candidates[ind]) < g(w):\n",
        "            # pluck out best descent direction\n",
        "            d = directions[ind,:]\n",
        "        \n",
        "            # take step\n",
        "            w = w + alpha*d\n",
        "        \n",
        "    # record weights and cost evaluation\n",
        "    weight_history.append(w)\n",
        "    cost_history.append(g(w))\n",
        "    return weight_history,cost_history"
      ],
      "metadata": {
        "id": "HmUb7hNmFEVx"
      },
      "execution_count": 13,
      "outputs": []
    },
    {
      "cell_type": "code",
      "source": [
        "# zero order coordinate search\n",
        "def coordinate_descent_zero_order(g,alpha_choice,max_its,w):  \n",
        "    # run coordinate search\n",
        "    N = np.size(w)\n",
        "    weight_history = []         # container for weight history\n",
        "    cost_history = []           # container for corresponding cost function history\n",
        "    alpha = 0\n",
        "    for k in range(1,max_its+1):        \n",
        "        # check if diminishing steplength rule used\n",
        "        if alpha_choice == 'diminishing':\n",
        "            alpha = 1/float(k)\n",
        "        else:\n",
        "            alpha = alpha_choice\n",
        "        \n",
        "        # random shuffle of coordinates\n",
        "        c = np.random.permutation(N)\n",
        "        \n",
        "        # forming the dirction matrix out of the loop\n",
        "        cost = g(w)\n",
        "        \n",
        "        # loop over each coordinate direction\n",
        "        for n in range(N):\n",
        "            direction = np.zeros((N,1)).flatten()\n",
        "            direction[c[n]] = 1\n",
        "     \n",
        "            # record weights and cost evaluation\n",
        "            weight_history.append(w)\n",
        "            cost_history.append(cost)\n",
        "\n",
        "            # evaluate all candidates\n",
        "            evals =  [g(w + alpha*direction)]\n",
        "            evals.append(g(w - alpha*direction))\n",
        "            evals = np.array(evals)\n",
        "\n",
        "            # if we find a real descent direction take the step in its direction\n",
        "            ind = np.argmin(evals)\n",
        "            if evals[ind] < cost_history[-1]:\n",
        "                # take step\n",
        "                w = w + ((-1)**(ind))*alpha*direction\n",
        "                cost = evals[ind]\n",
        "        \n",
        "    # record weights and cost evaluation\n",
        "    weight_history.append(w)\n",
        "    cost_history.append(g(w))\n",
        "    return weight_history,cost_history"
      ],
      "metadata": {
        "id": "dnN9c0QLFNub"
      },
      "execution_count": 14,
      "outputs": []
    },
    {
      "cell_type": "code",
      "source": [
        "np.random.seed(0)\n",
        "# define function\n",
        "# fill in one line of code \n",
        "g = lambda w: 0.26*(w[0]**2 + w[1]**2) - 0.48*w[0]*w[1]\n",
        "\n",
        "# run coordinate search algorithm \n",
        "alpha_choice = 'diminishing'; w = np.array([3,4]); max_its = 40;\n",
        "weight_history_1,cost_history_1 = coordinate_search(g,alpha_choice,max_its,w)\n",
        "\n",
        "# run coordinate descent algorithm\n",
        "alpha_choice = 'diminishing'; w = np.array([3,4]); max_its = 40;\n",
        "weight_history_2,cost_history_2 = coordinate_descent_zero_order(g,alpha_choice,max_its,w)"
      ],
      "metadata": {
        "id": "Qjar_vE1EnH1"
      },
      "execution_count": 15,
      "outputs": []
    },
    {
      "cell_type": "code",
      "source": [
        "%matplotlib inline\n",
        "import matplotlib.pyplot as plt\n",
        "\n",
        "plt.plot(np.log(np.array(cost_history_1)));\n",
        "plt.plot(np.log(np.array(cost_history_2)));\n",
        "plt.xlabel(\"step\");\n",
        "plt.ylabel(\"log cost\");\n",
        "plt.legend([\"coordinate search\", \"coordinate descent\"]);"
      ],
      "metadata": {
        "colab": {
          "base_uri": "https://localhost:8080/",
          "height": 449
        },
        "id": "gVKwjMcjEqIu",
        "outputId": "ced18b97-8277-44c5-b866-fcbcf80b7cb2"
      },
      "execution_count": 16,
      "outputs": [
        {
          "output_type": "display_data",
          "data": {
            "text/plain": [
              "<Figure size 640x480 with 1 Axes>"
            ],
            "image/png": "[encoded data removed]"
          },
          "metadata": {}
        }
      ]
    }
  ]
}