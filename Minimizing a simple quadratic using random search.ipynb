{
  "nbformat": 4,
  "nbformat_minor": 0,
  "metadata": {
    "colab": {
      "provenance": []
    },
    "kernelspec": {
      "name": "python3",
      "display_name": "Python 3"
    },
    "language_info": {
      "name": "python"
    }
  },
  "cells": [
    {
      "cell_type": "markdown",
      "source": [
        "**Minimizing a simple quadratic using random search**\n",
        "\n",
        "\n",
        "In the problem, we ruan random local search for  𝐾=5  steps with  𝛼=1  for all steps, at each step searching for  𝑃=1000  random directions to minimize the quadratic function  𝑔(𝑤1,𝑤2)=𝑤21+𝑤22+2 .\n",
        "The random search algorithm is already given and provided below. Please read carefully to make sure you understand how it is done, and how to use it."
      ],
      "metadata": {
        "id": "IgT0AiURBeSs"
      }
    },
    {
      "cell_type": "code",
      "source": [
        "import numpy as np\n",
        "np.random.seed(0)"
      ],
      "metadata": {
        "id": "OM7Pk8pPCFqa"
      },
      "execution_count": 3,
      "outputs": []
    },
    {
      "cell_type": "code",
      "source": [
        "# random search function\n",
        "def random_search(g,alpha_choice,max_its,w,num_samples):\n",
        "    # run random search\n",
        "    weight_history = []         # container for weight history\n",
        "    cost_history = []           # container for corresponding cost function history\n",
        "    alpha = 0\n",
        "    for k in range(1,max_its+1):        \n",
        "        # check if diminishing steplength rule used\n",
        "        if alpha_choice == 'diminishing':\n",
        "            alpha = 1/float(k)\n",
        "        else:\n",
        "            alpha = alpha_choice\n",
        "            \n",
        "        # record weights and cost evaluation\n",
        "        weight_history.append(w)\n",
        "        cost_history.append(g(w))\n",
        "        \n",
        "        # construct set of random unit directions\n",
        "        directions = np.random.randn(num_samples,np.size(w))\n",
        "        norms = np.sqrt(np.sum(directions*directions,axis = 1))[:,np.newaxis]\n",
        "        directions = directions/norms   \n",
        "        \n",
        "        ### pick best descent direction\n",
        "        # compute all new candidate points\n",
        "        w_candidates = w + alpha*directions\n",
        "        \n",
        "        # evaluate all candidates\n",
        "        evals = np.array([g(w_val) for w_val in w_candidates])\n",
        "\n",
        "        # if we find a real descent direction take the step in its direction\n",
        "        ind = np.argmin(evals)\n",
        "        if g(w_candidates[ind]) < g(w):\n",
        "            # pluck out best descent direction\n",
        "            d = directions[ind,:]\n",
        "        \n",
        "            # take step\n",
        "            w = w + alpha*d\n",
        "        \n",
        "    # record weights and cost evaluation\n",
        "    weight_history.append(w)\n",
        "    cost_history.append(g(w))\n",
        "    return weight_history,cost_history"
      ],
      "metadata": {
        "id": "a60ASbuEBfb5"
      },
      "execution_count": 4,
      "outputs": []
    },
    {
      "cell_type": "markdown",
      "source": [
        "In the following coding block, we first define the function g. And then we use  𝛼=1,𝑤0=[34]𝑇,𝑃=1000 , and  𝐾=5  steps to call the random_search function. "
      ],
      "metadata": {
        "id": "k6xEHbDWB4sC"
      }
    },
    {
      "cell_type": "code",
      "source": [
        "np.random.seed(0)\n",
        "# define function\n",
        "g = lambda w: np.dot(w.T,w) + 2\n",
        "\n",
        "# run random search algorithm \n",
        "alpha_choice = 1; w = np.array([3,4]); num_samples = 1000; max_its = 5;\n",
        "weight_history,cost_history = random_search(g,alpha_choice,max_its,w,num_samples)"
      ],
      "metadata": {
        "id": "n6XVunblB2m5"
      },
      "execution_count": 5,
      "outputs": []
    },
    {
      "cell_type": "code",
      "source": [
        "%matplotlib inline\n",
        "import matplotlib.pyplot as plt\n",
        "\n",
        "plt.plot(cost_history, '-o');\n",
        "plt.xlabel(\"k\");\n",
        "plt.ylabel(\"g\");"
      ],
      "metadata": {
        "colab": {
          "base_uri": "https://localhost:8080/",
          "height": 449
        },
        "id": "l8M0QQHDB92E",
        "outputId": "e3e71062-6196-43d9-b6ea-d2c5dcd73c52"
      },
      "execution_count": 6,
      "outputs": [
        {
          "output_type": "display_data",
          "data": {
            "text/plain": [
              "<Figure size 640x480 with 1 Axes>"
            ],
            "image/png": "[encoded data removed]"
          },
          "metadata": {}
        }
      ]
    }
  ]
}